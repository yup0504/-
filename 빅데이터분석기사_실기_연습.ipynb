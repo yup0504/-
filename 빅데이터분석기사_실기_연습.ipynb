{
  "nbformat": 4,
  "nbformat_minor": 0,
  "metadata": {
    "colab": {
      "provenance": []
    },
    "kernelspec": {
      "name": "python3",
      "display_name": "Python 3"
    },
    "language_info": {
      "name": "python"
    }
  },
  "cells": [
    {
      "cell_type": "code",
      "execution_count": 2,
      "metadata": {
        "colab": {
          "base_uri": "https://localhost:8080/"
        },
        "id": "COmdn2hFLJJo",
        "outputId": "8f3f11ea-42d3-4144-fe4e-b6d2f6c74dcf"
      },
      "outputs": [
        {
          "output_type": "stream",
          "name": "stdout",
          "text": [
            "Cloning into 'yemoonsaBigdata'...\n",
            "remote: Enumerating objects: 637, done.\u001b[K\n",
            "remote: Counting objects: 100% (276/276), done.\u001b[K\n",
            "remote: Compressing objects: 100% (167/167), done.\u001b[K\n",
            "remote: Total 637 (delta 137), reused 184 (delta 109), pack-reused 361\u001b[K\n",
            "Receiving objects: 100% (637/637), 10.76 MiB | 16.11 MiB/s, done.\n",
            "Resolving deltas: 100% (321/321), done.\n"
          ]
        }
      ],
      "source": [
        "!git clone https://github.com/AnalyticsKnight/yemoonsaBigdata/"
      ]
    },
    {
      "cell_type": "code",
      "source": [
        "import numpy as np\n",
        "import pandas as pd\n",
        "import sklearn"
      ],
      "metadata": {
        "id": "qOU_3hK_S1CE"
      },
      "execution_count": 2,
      "outputs": []
    },
    {
      "cell_type": "code",
      "source": [
        "from sklearn.datasets import load_iris  # sklearn 제공 데이터셋"
      ],
      "metadata": {
        "id": "5eW8WDE3TEI8"
      },
      "execution_count": 3,
      "outputs": []
    },
    {
      "cell_type": "code",
      "source": [
        "iris = load_iris()\n",
        "print(type(iris))\n",
        "\n",
        "keys = iris.keys()\n",
        "print(keys)"
      ],
      "metadata": {
        "colab": {
          "base_uri": "https://localhost:8080/"
        },
        "id": "uup2sD6cg9xq",
        "outputId": "f9cb5dcd-78ab-4916-b663-0cbc2a44f467"
      },
      "execution_count": 4,
      "outputs": [
        {
          "output_type": "stream",
          "name": "stdout",
          "text": [
            "<class 'sklearn.utils._bunch.Bunch'>\n",
            "dict_keys(['data', 'target', 'frame', 'target_names', 'DESCR', 'feature_names', 'filename', 'data_module'])\n"
          ]
        }
      ]
    },
    {
      "cell_type": "code",
      "source": [
        "print('feature_names :')\n",
        "print(iris.feature_names)\n",
        "print('\\ntarget_names :')\n",
        "print(iris.target_names)\n",
        "print('\\ndata :')\n",
        "print(iris.data)\n",
        "print('\\ntarget :')\n",
        "print(iris.target)"
      ],
      "metadata": {
        "id": "QFkzz_bIhLhY"
      },
      "execution_count": null,
      "outputs": []
    },
    {
      "cell_type": "code",
      "source": [
        "# 데이터프레임으로 변환\n",
        "iris_df = pd.DataFrame(data = iris.data, columns = iris.feature_names)\n",
        "iris_df['label'] = iris.target\n",
        "print(iris_df)"
      ],
      "metadata": {
        "id": "v_JL160Rjahk"
      },
      "execution_count": null,
      "outputs": []
    },
    {
      "cell_type": "code",
      "source": [
        "# 학습용 데이터, 테스트 데이터 분리\n",
        "from sklearn.model_selection import train_test_split  # 학습데이터, 테스트데이터 분할 패키지?\n",
        "\n",
        "iris_data = iris.data     # 피처데이터\n",
        "iris_label = iris.target  # 타겟데이터\n",
        "\n",
        "# iris_data -> feature 데이터셋, iris_label -> target 데이터셋, test_size = 0.2 -> 테스트 데이터 비율\n",
        "x_train, x_test, y_train, y_test = train_test_split(iris_data, iris_label, test_size = 0.2, random_state = 11)\n",
        "\n",
        "print('iris_data : ',len(iris.data))     # 150 -> 120:30 ?\n",
        "print('iris_label : ',len(iris.target))  # 150 -> 120:30 ?\n",
        "print('train dataset')\n",
        "print('x_train dataset :', len(x_train))  # 학습 피처 데이터\n",
        "print('y_train dataset :', len(y_train))  # 학습 타겟 데이터\n",
        "print('\\ntest dataset :')\n",
        "print('x_test dataset :', len(x_test))    # 테스트 피처 데이터\n",
        "print('y_test dataset :', len(y_test))    # 테스트 타겟 데이터"
      ],
      "metadata": {
        "colab": {
          "base_uri": "https://localhost:8080/"
        },
        "id": "zyqiOITLkFuZ",
        "outputId": "3ed557fb-455b-4253-8d3d-0e44f0767748"
      },
      "execution_count": 7,
      "outputs": [
        {
          "output_type": "stream",
          "name": "stdout",
          "text": [
            "iris_data :  150\n",
            "iris_label :  150\n",
            "train dataset\n",
            "x_train dataset : 120\n",
            "y_train dataset : 120\n",
            "\n",
            "test dataset :\n",
            "x_test dataset : 30\n",
            "y_test dataset : 30\n"
          ]
        }
      ]
    },
    {
      "cell_type": "code",
      "source": [
        "# 의사결정 트리 머신러닝 학습\n",
        "from sklearn.tree import DecisionTreeClassifier\n",
        "\n",
        "dt_clf = DecisionTreeClassifier(random_state=11)  # DecisionTreeClassifier를 객체로 생성\n",
        "dt_clf.fit(x_train, y_train)  # 객체의 fit 함수에 학습 피처 데이터 x_train 함수와 학습 타겟 데이터 y_train을 입력"
      ],
      "metadata": {
        "colab": {
          "base_uri": "https://localhost:8080/",
          "height": 75
        },
        "id": "42M_RhLMoXGP",
        "outputId": "ba651fb1-8c6a-48bc-c660-831ed65e5a40"
      },
      "execution_count": 8,
      "outputs": [
        {
          "output_type": "execute_result",
          "data": {
            "text/plain": [
              "DecisionTreeClassifier(random_state=11)"
            ],
            "text/html": [
              "<style>#sk-container-id-1 {color: black;background-color: white;}#sk-container-id-1 pre{padding: 0;}#sk-container-id-1 div.sk-toggleable {background-color: white;}#sk-container-id-1 label.sk-toggleable__label {cursor: pointer;display: block;width: 100%;margin-bottom: 0;padding: 0.3em;box-sizing: border-box;text-align: center;}#sk-container-id-1 label.sk-toggleable__label-arrow:before {content: \"▸\";float: left;margin-right: 0.25em;color: #696969;}#sk-container-id-1 label.sk-toggleable__label-arrow:hover:before {color: black;}#sk-container-id-1 div.sk-estimator:hover label.sk-toggleable__label-arrow:before {color: black;}#sk-container-id-1 div.sk-toggleable__content {max-height: 0;max-width: 0;overflow: hidden;text-align: left;background-color: #f0f8ff;}#sk-container-id-1 div.sk-toggleable__content pre {margin: 0.2em;color: black;border-radius: 0.25em;background-color: #f0f8ff;}#sk-container-id-1 input.sk-toggleable__control:checked~div.sk-toggleable__content {max-height: 200px;max-width: 100%;overflow: auto;}#sk-container-id-1 input.sk-toggleable__control:checked~label.sk-toggleable__label-arrow:before {content: \"▾\";}#sk-container-id-1 div.sk-estimator input.sk-toggleable__control:checked~label.sk-toggleable__label {background-color: #d4ebff;}#sk-container-id-1 div.sk-label input.sk-toggleable__control:checked~label.sk-toggleable__label {background-color: #d4ebff;}#sk-container-id-1 input.sk-hidden--visually {border: 0;clip: rect(1px 1px 1px 1px);clip: rect(1px, 1px, 1px, 1px);height: 1px;margin: -1px;overflow: hidden;padding: 0;position: absolute;width: 1px;}#sk-container-id-1 div.sk-estimator {font-family: monospace;background-color: #f0f8ff;border: 1px dotted black;border-radius: 0.25em;box-sizing: border-box;margin-bottom: 0.5em;}#sk-container-id-1 div.sk-estimator:hover {background-color: #d4ebff;}#sk-container-id-1 div.sk-parallel-item::after {content: \"\";width: 100%;border-bottom: 1px solid gray;flex-grow: 1;}#sk-container-id-1 div.sk-label:hover label.sk-toggleable__label {background-color: #d4ebff;}#sk-container-id-1 div.sk-serial::before {content: \"\";position: absolute;border-left: 1px solid gray;box-sizing: border-box;top: 0;bottom: 0;left: 50%;z-index: 0;}#sk-container-id-1 div.sk-serial {display: flex;flex-direction: column;align-items: center;background-color: white;padding-right: 0.2em;padding-left: 0.2em;position: relative;}#sk-container-id-1 div.sk-item {position: relative;z-index: 1;}#sk-container-id-1 div.sk-parallel {display: flex;align-items: stretch;justify-content: center;background-color: white;position: relative;}#sk-container-id-1 div.sk-item::before, #sk-container-id-1 div.sk-parallel-item::before {content: \"\";position: absolute;border-left: 1px solid gray;box-sizing: border-box;top: 0;bottom: 0;left: 50%;z-index: -1;}#sk-container-id-1 div.sk-parallel-item {display: flex;flex-direction: column;z-index: 1;position: relative;background-color: white;}#sk-container-id-1 div.sk-parallel-item:first-child::after {align-self: flex-end;width: 50%;}#sk-container-id-1 div.sk-parallel-item:last-child::after {align-self: flex-start;width: 50%;}#sk-container-id-1 div.sk-parallel-item:only-child::after {width: 0;}#sk-container-id-1 div.sk-dashed-wrapped {border: 1px dashed gray;margin: 0 0.4em 0.5em 0.4em;box-sizing: border-box;padding-bottom: 0.4em;background-color: white;}#sk-container-id-1 div.sk-label label {font-family: monospace;font-weight: bold;display: inline-block;line-height: 1.2em;}#sk-container-id-1 div.sk-label-container {text-align: center;}#sk-container-id-1 div.sk-container {/* jupyter's `normalize.less` sets `[hidden] { display: none; }` but bootstrap.min.css set `[hidden] { display: none !important; }` so we also need the `!important` here to be able to override the default hidden behavior on the sphinx rendered scikit-learn.org. See: https://github.com/scikit-learn/scikit-learn/issues/21755 */display: inline-block !important;position: relative;}#sk-container-id-1 div.sk-text-repr-fallback {display: none;}</style><div id=\"sk-container-id-1\" class=\"sk-top-container\"><div class=\"sk-text-repr-fallback\"><pre>DecisionTreeClassifier(random_state=11)</pre><b>In a Jupyter environment, please rerun this cell to show the HTML representation or trust the notebook. <br />On GitHub, the HTML representation is unable to render, please try loading this page with nbviewer.org.</b></div><div class=\"sk-container\" hidden><div class=\"sk-item\"><div class=\"sk-estimator sk-toggleable\"><input class=\"sk-toggleable__control sk-hidden--visually\" id=\"sk-estimator-id-1\" type=\"checkbox\" checked><label for=\"sk-estimator-id-1\" class=\"sk-toggleable__label sk-toggleable__label-arrow\">DecisionTreeClassifier</label><div class=\"sk-toggleable__content\"><pre>DecisionTreeClassifier(random_state=11)</pre></div></div></div></div></div>"
            ]
          },
          "metadata": {},
          "execution_count": 8
        }
      ]
    },
    {
      "cell_type": "code",
      "source": [
        "# 의사결정 트리 머신러닝 테스트/평가\n",
        "from sklearn.metrics import accuracy_score\n",
        "\n",
        "pred = dt_clf.predict(x_test)            # 테스트 피처 데이터로 예측\n",
        "ac_score = accuracy_score(y_test, pred)  # accuracy_score(테스트 타겟 데이터 세트, 예측 데이터 세트) -> 정확도 측정 함수\n",
        "\n",
        "print('예측 정확도 :', ac_score)"
      ],
      "metadata": {
        "colab": {
          "base_uri": "https://localhost:8080/"
        },
        "id": "dLxSm-30pIZd",
        "outputId": "65448fc9-6e39-45b6-cbb2-7777400ee01c"
      },
      "execution_count": 9,
      "outputs": [
        {
          "output_type": "stream",
          "name": "stdout",
          "text": [
            "예측 정확도 : 0.9333333333333333\n"
          ]
        }
      ]
    },
    {
      "cell_type": "markdown",
      "source": [
        "# 데이터 전처리 연습"
      ],
      "metadata": {
        "id": "lsIeaVJaYd-D"
      }
    },
    {
      "cell_type": "markdown",
      "source": [
        "## 레이블 인코딩, 원-핫 인코딩"
      ],
      "metadata": {
        "id": "haPAYWMRmpgx"
      }
    },
    {
      "cell_type": "code",
      "source": [
        "# 레이블 인코딩\n",
        "from sklearn.preprocessing import LabelEncoder\n",
        "\n",
        "items = ['TV','냉장고','전자레인지','컴퓨터','TV','냉장고','컴퓨터','컴퓨터']\n",
        "\n",
        "encoder = LabelEncoder()\n",
        "encoder.fit(items)\n",
        "labels = encoder.transform(items)  # labels.shape -> (8,)\n",
        "\n",
        "print('인코딩 변환값 : ', labels)            # ['TV' '냉장고' '전자레인지' '컴퓨터'] -> TV: 0, 냉장고: 1, 전자레인지: 2, 컴퓨터: 3 -> [0 1 2 3 0 1 3 3]\n",
        "print('인코딩 클래스 : ', encoder.classes_)  # 속성값 확인.\n",
        "\n",
        "# 레이블 디코딩\n",
        "origins = encoder.inverse_transform([0,1,2,3,0,1,3,3])\n",
        "\n",
        "print('디코딩 원본값 : ', origins)"
      ],
      "metadata": {
        "colab": {
          "base_uri": "https://localhost:8080/"
        },
        "id": "mmT6juGFYfi_",
        "outputId": "4aebd14b-bde9-4c3c-fe50-6da409276fc3"
      },
      "execution_count": 15,
      "outputs": [
        {
          "output_type": "stream",
          "name": "stdout",
          "text": [
            "인코딩 변환값 :  [0 1 2 3 0 1 3 3]\n",
            "인코딩 클래스 :  ['TV' '냉장고' '전자레인지' '컴퓨터']\n",
            "디코딩 원본값 :  ['TV' '냉장고' '전자레인지' '컴퓨터' 'TV' '냉장고' '컴퓨터' '컴퓨터']\n"
          ]
        }
      ]
    },
    {
      "cell_type": "code",
      "source": [
        "from sklearn.preprocessing import OneHotEncoder\n",
        "import numpy as np\n",
        "\n",
        "labels = labels.reshape(-1,1)  # 위에서 수행한 레이블 인코딩 결과를 2차원 데이터로 변환  -1로 하면 배열 크기를 자동으로 계산\n",
        "\n",
        "oh_encoder = OneHotEncoder()\n",
        "oh_encoder.fit(labels)\n",
        "oh_labels = oh_encoder.transform(labels)\n",
        "\n",
        "print('원-핫 인코딩 데이터')\n",
        "print(oh_labels.toarray())\n",
        "print('원-핫 인코딩 데이터 차원')\n",
        "print(oh_labels.shape)  # (8,4) 2차원  3차원은 (8,4,1) 이런 형태"
      ],
      "metadata": {
        "colab": {
          "base_uri": "https://localhost:8080/"
        },
        "id": "Lj5DP2z2Zpbv",
        "outputId": "3ff19b16-3602-4516-dfdc-0fb7653a4aa8"
      },
      "execution_count": 19,
      "outputs": [
        {
          "output_type": "stream",
          "name": "stdout",
          "text": [
            "원-핫 인코딩 데이터\n",
            "[[1. 0. 0. 0.]\n",
            " [0. 1. 0. 0.]\n",
            " [0. 0. 1. 0.]\n",
            " [0. 0. 0. 1.]\n",
            " [1. 0. 0. 0.]\n",
            " [0. 1. 0. 0.]\n",
            " [0. 0. 0. 1.]\n",
            " [0. 0. 0. 1.]]\n",
            "원-핫 인코딩 데이터 차원\n",
            "(8, 4)\n"
          ]
        }
      ]
    },
    {
      "cell_type": "code",
      "source": [
        "# pandas의 원-핫 인코딩\n",
        "import pandas as pd\n",
        "\n",
        "item_df = pd.DataFrame({'item' : items})\n",
        "pd.get_dummies(item_df)  # 명목형 데이터를 숫자형으로 직접 바꾸는 과정을 생략하고 바로 해줌"
      ],
      "metadata": {
        "colab": {
          "base_uri": "https://localhost:8080/",
          "height": 300
        },
        "id": "FQq_R4XbkVMg",
        "outputId": "09081277-a7f5-4dc8-b1c0-899ffdb1c537"
      },
      "execution_count": 22,
      "outputs": [
        {
          "output_type": "execute_result",
          "data": {
            "text/plain": [
              "   item_TV  item_냉장고  item_전자레인지  item_컴퓨터\n",
              "0        1         0           0         0\n",
              "1        0         1           0         0\n",
              "2        0         0           1         0\n",
              "3        0         0           0         1\n",
              "4        1         0           0         0\n",
              "5        0         1           0         0\n",
              "6        0         0           0         1\n",
              "7        0         0           0         1"
            ],
            "text/html": [
              "\n",
              "  <div id=\"df-24b8f17d-642a-4d94-809d-a4053ab02bb3\" class=\"colab-df-container\">\n",
              "    <div>\n",
              "<style scoped>\n",
              "    .dataframe tbody tr th:only-of-type {\n",
              "        vertical-align: middle;\n",
              "    }\n",
              "\n",
              "    .dataframe tbody tr th {\n",
              "        vertical-align: top;\n",
              "    }\n",
              "\n",
              "    .dataframe thead th {\n",
              "        text-align: right;\n",
              "    }\n",
              "</style>\n",
              "<table border=\"1\" class=\"dataframe\">\n",
              "  <thead>\n",
              "    <tr style=\"text-align: right;\">\n",
              "      <th></th>\n",
              "      <th>item_TV</th>\n",
              "      <th>item_냉장고</th>\n",
              "      <th>item_전자레인지</th>\n",
              "      <th>item_컴퓨터</th>\n",
              "    </tr>\n",
              "  </thead>\n",
              "  <tbody>\n",
              "    <tr>\n",
              "      <th>0</th>\n",
              "      <td>1</td>\n",
              "      <td>0</td>\n",
              "      <td>0</td>\n",
              "      <td>0</td>\n",
              "    </tr>\n",
              "    <tr>\n",
              "      <th>1</th>\n",
              "      <td>0</td>\n",
              "      <td>1</td>\n",
              "      <td>0</td>\n",
              "      <td>0</td>\n",
              "    </tr>\n",
              "    <tr>\n",
              "      <th>2</th>\n",
              "      <td>0</td>\n",
              "      <td>0</td>\n",
              "      <td>1</td>\n",
              "      <td>0</td>\n",
              "    </tr>\n",
              "    <tr>\n",
              "      <th>3</th>\n",
              "      <td>0</td>\n",
              "      <td>0</td>\n",
              "      <td>0</td>\n",
              "      <td>1</td>\n",
              "    </tr>\n",
              "    <tr>\n",
              "      <th>4</th>\n",
              "      <td>1</td>\n",
              "      <td>0</td>\n",
              "      <td>0</td>\n",
              "      <td>0</td>\n",
              "    </tr>\n",
              "    <tr>\n",
              "      <th>5</th>\n",
              "      <td>0</td>\n",
              "      <td>1</td>\n",
              "      <td>0</td>\n",
              "      <td>0</td>\n",
              "    </tr>\n",
              "    <tr>\n",
              "      <th>6</th>\n",
              "      <td>0</td>\n",
              "      <td>0</td>\n",
              "      <td>0</td>\n",
              "      <td>1</td>\n",
              "    </tr>\n",
              "    <tr>\n",
              "      <th>7</th>\n",
              "      <td>0</td>\n",
              "      <td>0</td>\n",
              "      <td>0</td>\n",
              "      <td>1</td>\n",
              "    </tr>\n",
              "  </tbody>\n",
              "</table>\n",
              "</div>\n",
              "    <div class=\"colab-df-buttons\">\n",
              "\n",
              "  <div class=\"colab-df-container\">\n",
              "    <button class=\"colab-df-convert\" onclick=\"convertToInteractive('df-24b8f17d-642a-4d94-809d-a4053ab02bb3')\"\n",
              "            title=\"Convert this dataframe to an interactive table.\"\n",
              "            style=\"display:none;\">\n",
              "\n",
              "  <svg xmlns=\"http://www.w3.org/2000/svg\" height=\"24px\" viewBox=\"0 -960 960 960\">\n",
              "    <path d=\"M120-120v-720h720v720H120Zm60-500h600v-160H180v160Zm220 220h160v-160H400v160Zm0 220h160v-160H400v160ZM180-400h160v-160H180v160Zm440 0h160v-160H620v160ZM180-180h160v-160H180v160Zm440 0h160v-160H620v160Z\"/>\n",
              "  </svg>\n",
              "    </button>\n",
              "\n",
              "  <style>\n",
              "    .colab-df-container {\n",
              "      display:flex;\n",
              "      gap: 12px;\n",
              "    }\n",
              "\n",
              "    .colab-df-convert {\n",
              "      background-color: #E8F0FE;\n",
              "      border: none;\n",
              "      border-radius: 50%;\n",
              "      cursor: pointer;\n",
              "      display: none;\n",
              "      fill: #1967D2;\n",
              "      height: 32px;\n",
              "      padding: 0 0 0 0;\n",
              "      width: 32px;\n",
              "    }\n",
              "\n",
              "    .colab-df-convert:hover {\n",
              "      background-color: #E2EBFA;\n",
              "      box-shadow: 0px 1px 2px rgba(60, 64, 67, 0.3), 0px 1px 3px 1px rgba(60, 64, 67, 0.15);\n",
              "      fill: #174EA6;\n",
              "    }\n",
              "\n",
              "    .colab-df-buttons div {\n",
              "      margin-bottom: 4px;\n",
              "    }\n",
              "\n",
              "    [theme=dark] .colab-df-convert {\n",
              "      background-color: #3B4455;\n",
              "      fill: #D2E3FC;\n",
              "    }\n",
              "\n",
              "    [theme=dark] .colab-df-convert:hover {\n",
              "      background-color: #434B5C;\n",
              "      box-shadow: 0px 1px 3px 1px rgba(0, 0, 0, 0.15);\n",
              "      filter: drop-shadow(0px 1px 2px rgba(0, 0, 0, 0.3));\n",
              "      fill: #FFFFFF;\n",
              "    }\n",
              "  </style>\n",
              "\n",
              "    <script>\n",
              "      const buttonEl =\n",
              "        document.querySelector('#df-24b8f17d-642a-4d94-809d-a4053ab02bb3 button.colab-df-convert');\n",
              "      buttonEl.style.display =\n",
              "        google.colab.kernel.accessAllowed ? 'block' : 'none';\n",
              "\n",
              "      async function convertToInteractive(key) {\n",
              "        const element = document.querySelector('#df-24b8f17d-642a-4d94-809d-a4053ab02bb3');\n",
              "        const dataTable =\n",
              "          await google.colab.kernel.invokeFunction('convertToInteractive',\n",
              "                                                    [key], {});\n",
              "        if (!dataTable) return;\n",
              "\n",
              "        const docLinkHtml = 'Like what you see? Visit the ' +\n",
              "          '<a target=\"_blank\" href=https://colab.research.google.com/notebooks/data_table.ipynb>data table notebook</a>'\n",
              "          + ' to learn more about interactive tables.';\n",
              "        element.innerHTML = '';\n",
              "        dataTable['output_type'] = 'display_data';\n",
              "        await google.colab.output.renderOutput(dataTable, element);\n",
              "        const docLink = document.createElement('div');\n",
              "        docLink.innerHTML = docLinkHtml;\n",
              "        element.appendChild(docLink);\n",
              "      }\n",
              "    </script>\n",
              "  </div>\n",
              "\n",
              "\n",
              "<div id=\"df-7f491d40-d13c-4665-880b-01b572c72897\">\n",
              "  <button class=\"colab-df-quickchart\" onclick=\"quickchart('df-7f491d40-d13c-4665-880b-01b572c72897')\"\n",
              "            title=\"Suggest charts.\"\n",
              "            style=\"display:none;\">\n",
              "\n",
              "<svg xmlns=\"http://www.w3.org/2000/svg\" height=\"24px\"viewBox=\"0 0 24 24\"\n",
              "     width=\"24px\">\n",
              "    <g>\n",
              "        <path d=\"M19 3H5c-1.1 0-2 .9-2 2v14c0 1.1.9 2 2 2h14c1.1 0 2-.9 2-2V5c0-1.1-.9-2-2-2zM9 17H7v-7h2v7zm4 0h-2V7h2v10zm4 0h-2v-4h2v4z\"/>\n",
              "    </g>\n",
              "</svg>\n",
              "  </button>\n",
              "\n",
              "<style>\n",
              "  .colab-df-quickchart {\n",
              "      --bg-color: #E8F0FE;\n",
              "      --fill-color: #1967D2;\n",
              "      --hover-bg-color: #E2EBFA;\n",
              "      --hover-fill-color: #174EA6;\n",
              "      --disabled-fill-color: #AAA;\n",
              "      --disabled-bg-color: #DDD;\n",
              "  }\n",
              "\n",
              "  [theme=dark] .colab-df-quickchart {\n",
              "      --bg-color: #3B4455;\n",
              "      --fill-color: #D2E3FC;\n",
              "      --hover-bg-color: #434B5C;\n",
              "      --hover-fill-color: #FFFFFF;\n",
              "      --disabled-bg-color: #3B4455;\n",
              "      --disabled-fill-color: #666;\n",
              "  }\n",
              "\n",
              "  .colab-df-quickchart {\n",
              "    background-color: var(--bg-color);\n",
              "    border: none;\n",
              "    border-radius: 50%;\n",
              "    cursor: pointer;\n",
              "    display: none;\n",
              "    fill: var(--fill-color);\n",
              "    height: 32px;\n",
              "    padding: 0;\n",
              "    width: 32px;\n",
              "  }\n",
              "\n",
              "  .colab-df-quickchart:hover {\n",
              "    background-color: var(--hover-bg-color);\n",
              "    box-shadow: 0 1px 2px rgba(60, 64, 67, 0.3), 0 1px 3px 1px rgba(60, 64, 67, 0.15);\n",
              "    fill: var(--button-hover-fill-color);\n",
              "  }\n",
              "\n",
              "  .colab-df-quickchart-complete:disabled,\n",
              "  .colab-df-quickchart-complete:disabled:hover {\n",
              "    background-color: var(--disabled-bg-color);\n",
              "    fill: var(--disabled-fill-color);\n",
              "    box-shadow: none;\n",
              "  }\n",
              "\n",
              "  .colab-df-spinner {\n",
              "    border: 2px solid var(--fill-color);\n",
              "    border-color: transparent;\n",
              "    border-bottom-color: var(--fill-color);\n",
              "    animation:\n",
              "      spin 1s steps(1) infinite;\n",
              "  }\n",
              "\n",
              "  @keyframes spin {\n",
              "    0% {\n",
              "      border-color: transparent;\n",
              "      border-bottom-color: var(--fill-color);\n",
              "      border-left-color: var(--fill-color);\n",
              "    }\n",
              "    20% {\n",
              "      border-color: transparent;\n",
              "      border-left-color: var(--fill-color);\n",
              "      border-top-color: var(--fill-color);\n",
              "    }\n",
              "    30% {\n",
              "      border-color: transparent;\n",
              "      border-left-color: var(--fill-color);\n",
              "      border-top-color: var(--fill-color);\n",
              "      border-right-color: var(--fill-color);\n",
              "    }\n",
              "    40% {\n",
              "      border-color: transparent;\n",
              "      border-right-color: var(--fill-color);\n",
              "      border-top-color: var(--fill-color);\n",
              "    }\n",
              "    60% {\n",
              "      border-color: transparent;\n",
              "      border-right-color: var(--fill-color);\n",
              "    }\n",
              "    80% {\n",
              "      border-color: transparent;\n",
              "      border-right-color: var(--fill-color);\n",
              "      border-bottom-color: var(--fill-color);\n",
              "    }\n",
              "    90% {\n",
              "      border-color: transparent;\n",
              "      border-bottom-color: var(--fill-color);\n",
              "    }\n",
              "  }\n",
              "</style>\n",
              "\n",
              "  <script>\n",
              "    async function quickchart(key) {\n",
              "      const quickchartButtonEl =\n",
              "        document.querySelector('#' + key + ' button');\n",
              "      quickchartButtonEl.disabled = true;  // To prevent multiple clicks.\n",
              "      quickchartButtonEl.classList.add('colab-df-spinner');\n",
              "      try {\n",
              "        const charts = await google.colab.kernel.invokeFunction(\n",
              "            'suggestCharts', [key], {});\n",
              "      } catch (error) {\n",
              "        console.error('Error during call to suggestCharts:', error);\n",
              "      }\n",
              "      quickchartButtonEl.classList.remove('colab-df-spinner');\n",
              "      quickchartButtonEl.classList.add('colab-df-quickchart-complete');\n",
              "    }\n",
              "    (() => {\n",
              "      let quickchartButtonEl =\n",
              "        document.querySelector('#df-7f491d40-d13c-4665-880b-01b572c72897 button');\n",
              "      quickchartButtonEl.style.display =\n",
              "        google.colab.kernel.accessAllowed ? 'block' : 'none';\n",
              "    })();\n",
              "  </script>\n",
              "</div>\n",
              "    </div>\n",
              "  </div>\n"
            ]
          },
          "metadata": {},
          "execution_count": 22
        }
      ]
    },
    {
      "cell_type": "markdown",
      "source": [
        "## 표준화, 정규화"
      ],
      "metadata": {
        "id": "ImZsDJVjmtmv"
      }
    },
    {
      "cell_type": "code",
      "source": [
        "# 스케일링 데이터 살펴보기\n",
        "from sklearn.datasets import load_iris  # scikit-learn 라이브러리에서 load_iris 함수를 가져옴\n",
        "import pandas as pd\n",
        "\n",
        "iris = load_iris()      # load_iris 함수를 사용하여 Iris 데이터셋을 로드하고, 그 결과를 iris 변수에 저장\n",
        "iris_data = iris.data   # iris 객체에서 데이터 포인트(샘플)의 특징(feature) 데이터를 가져와서 iris_data 변수에 저장\n",
        "iris_df = pd.DataFrame(data = iris_data, columns = iris.feature_names)\n",
        "\n",
        "print('feature 들의 평균 값 : \\n', iris_df.mean())\n",
        "print('feature 들의 분산 값 : \\n', iris_df.var())"
      ],
      "metadata": {
        "colab": {
          "base_uri": "https://localhost:8080/"
        },
        "id": "UUyYmR0WkU_g",
        "outputId": "61516ad6-5df3-4fb3-b3dd-fb219c7876b4"
      },
      "execution_count": 24,
      "outputs": [
        {
          "output_type": "stream",
          "name": "stdout",
          "text": [
            "feature 들의 평균 값 : \n",
            " sepal length (cm)    5.843333\n",
            "sepal width (cm)     3.057333\n",
            "petal length (cm)    3.758000\n",
            "petal width (cm)     1.199333\n",
            "dtype: float64\n",
            "feature 들의 분산 값 : \n",
            " sepal length (cm)    0.685694\n",
            "sepal width (cm)     0.189979\n",
            "petal length (cm)    3.116278\n",
            "petal width (cm)     0.581006\n",
            "dtype: float64\n"
          ]
        }
      ]
    },
    {
      "cell_type": "code",
      "source": [
        "# 표준화\n",
        "from sklearn.preprocessing import StandardScaler\n",
        "\n",
        "scaler = StandardScaler()\n",
        "scaler.fit(iris_df)\n",
        "iris_scaled = scaler.transform(iris_df)\n",
        "iris_df_scaled = pd.DataFrame(data = iris_scaled, columns = iris.feature_names)\n",
        "\n",
        "print('feature 들의 평균 값 : \\n', iris_df_scaled.mean())\n",
        "print('feature 들의 분산 값 : \\n', iris_df_scaled.var())\n",
        "\n",
        "# 평균은 0에 분산은 1에 가까워짐"
      ],
      "metadata": {
        "colab": {
          "base_uri": "https://localhost:8080/"
        },
        "id": "7-4FbiB3qjza",
        "outputId": "61d31bc1-48af-4aa2-cfb8-2ca3aa878896"
      },
      "execution_count": 25,
      "outputs": [
        {
          "output_type": "stream",
          "name": "stdout",
          "text": [
            "feature 들의 평균 값 : \n",
            " sepal length (cm)   -1.690315e-15\n",
            "sepal width (cm)    -1.842970e-15\n",
            "petal length (cm)   -1.698641e-15\n",
            "petal width (cm)    -1.409243e-15\n",
            "dtype: float64\n",
            "feature 들의 분산 값 : \n",
            " sepal length (cm)    1.006711\n",
            "sepal width (cm)     1.006711\n",
            "petal length (cm)    1.006711\n",
            "petal width (cm)     1.006711\n",
            "dtype: float64\n"
          ]
        }
      ]
    },
    {
      "cell_type": "code",
      "source": [
        "# 최대-최소 정규화\n",
        "from sklearn.preprocessing import MinMaxScaler\n",
        "\n",
        "scaler = MinMaxScaler()\n",
        "scaler.fit(iris_df)\n",
        "iris_scaled = scaler.transform(iris_df)\n",
        "iris_df_scaled = pd.DataFrame(data = iris_scaled, columns = iris.feature_names)\n",
        "\n",
        "print('feature 들의 최소 값 : \\n', iris_df_scaled.min())\n",
        "print('feature 들의 최대 값 : \\n', iris_df_scaled.max())"
      ],
      "metadata": {
        "colab": {
          "base_uri": "https://localhost:8080/"
        },
        "id": "ztujS2czrM3p",
        "outputId": "f25ccafc-5e37-4d92-8d01-ded2359b6ded"
      },
      "execution_count": 26,
      "outputs": [
        {
          "output_type": "stream",
          "name": "stdout",
          "text": [
            "feature 들의 최소 값 : \n",
            " sepal length (cm)    0.0\n",
            "sepal width (cm)     0.0\n",
            "petal length (cm)    0.0\n",
            "petal width (cm)     0.0\n",
            "dtype: float64\n",
            "feature 들의 최대 값 : \n",
            " sepal length (cm)    1.0\n",
            "sepal width (cm)     1.0\n",
            "petal length (cm)    1.0\n",
            "petal width (cm)     1.0\n",
            "dtype: float64\n"
          ]
        }
      ]
    },
    {
      "cell_type": "code",
      "source": [
        "# 스케일링 주의사항 (fit은 학습 데이터로만?)\n",
        "from sklearn.preprocessing import MinMaxScaler\n",
        "import numpy as np\n",
        "\n",
        "train_array = np.arange(0,11).reshape(-1,1)\n",
        "test_array = np.arange(0,6).reshape(-1,1)\n",
        "\n",
        "scaler = MinMaxScaler()\n",
        "scaler.fit(train_array)\n",
        "train_scaled = scaler.transform(train_array)\n",
        "\n",
        "print('원본 train_array 데이터 : ', np.round(train_array.reshape(-1),2))\n",
        "print('Scaled train_array 데이터 : ', np.round(train_scaled.reshape(-1),2))\n",
        "\n",
        "# scaler.fit(test_array)  학습 데이터로 fit을 했기 때문에 test데이터로는 fit을 진행하지 않음\n",
        "test_scaled = scaler.transform(test_array)\n",
        "\n",
        "print('\\n원본 test_array 데이터 : ', np.round(test_array.reshape(-1),2))\n",
        "print('Scaled test_array 데이터 : ', np.round(test_scaled.reshape(-1),2))\n",
        "\n",
        "# 1. MinMaxScaler를 scaler로 생성\n",
        "\n",
        "# 2. scaler.fit(train_array)를 사용하여 scaler를 학습 데이터(train_array)에 맞춤.\n",
        "# 이 단계에서 scaler는 학습 데이터의 최솟값과 최댓값을 계산.\n",
        "\n",
        "# 3. train_scaled = scaler.transform(train_array)를 사용하여 학습 데이터를 변환하여 train_scaled 생성\n",
        "# 이 단계에서 train_array의 값들이 최솟값과 최댓값을 이용하여 0과 1 사이의 값으로 스케일링.\n",
        "\n",
        "# 4. test_scaled = scaler.transform(test_array)를 사용하여 테스트 데이터(test_array)를 변환하여 test_scaled 생성\n",
        "# 이 때, 테스트 데이터도 학습 데이터에서 계산된 최솟값과 최댓값을 사용하여 0과 1 사이의 값으로 스케일링\n",
        "\n",
        "# 이렇게 해야 학습 데이터와 테스트 데이터가 동일한 스케일링 방식을 공유"
      ],
      "metadata": {
        "colab": {
          "base_uri": "https://localhost:8080/"
        },
        "id": "diKb4AQ1vEDT",
        "outputId": "23e9dfae-ac23-47a5-e91d-f43020e50181"
      },
      "execution_count": 30,
      "outputs": [
        {
          "output_type": "stream",
          "name": "stdout",
          "text": [
            "MinMaxScaler()\n",
            "MinMaxScaler()\n",
            "원본 train_array 데이터 :  [ 0  1  2  3  4  5  6  7  8  9 10]\n",
            "Scaled train_array 데이터 :  [0.  0.1 0.2 0.3 0.4 0.5 0.6 0.7 0.8 0.9 1. ]\n",
            "\n",
            "원본 test_array 데이터 :  [0 1 2 3 4 5]\n",
            "Scaled test_array 데이터 :  [0.  0.1 0.2 0.3 0.4 0.5]\n"
          ]
        }
      ]
    },
    {
      "cell_type": "markdown",
      "source": [
        "# 전체적인 분석 과정 연습"
      ],
      "metadata": {
        "id": "LVKhE9UL1Xxm"
      }
    },
    {
      "cell_type": "code",
      "source": [
        "# 1. 데이터 불러오기 (csv파일 불러오기)\n",
        "import pandas as pd\n",
        "\n",
        "data = pd.read_csv(\"./yemoonsaBigdata/datasets/Part2/housing_data.csv\", header = None, sep=',')\n",
        "col_names = ['CRIM','ZN','INDUS','CHAS','NOX','RM','AGE','DIS','RAD','TAX','PTRATIO','B','LSTAT','MEDV','isHighValue']\n",
        "data.columns = col_names\n",
        "\n",
        "data.head()"
      ],
      "metadata": {
        "colab": {
          "base_uri": "https://localhost:8080/",
          "height": 226
        },
        "id": "i6dXgm0K1bAC",
        "outputId": "fd493905-87ae-4457-d3f8-e3cfe53fe459"
      },
      "execution_count": 2,
      "outputs": [
        {
          "output_type": "execute_result",
          "data": {
            "text/plain": [
              "      CRIM    ZN  INDUS  CHAS    NOX     RM   AGE     DIS  RAD    TAX  \\\n",
              "0  0.00632  18.0   2.31     0  0.538  6.575  65.2  4.0900    1  296.0   \n",
              "1  0.02731   0.0   7.07     0  0.469  6.421  78.9  4.9671    2  242.0   \n",
              "2  0.02729   0.0   7.07     0  0.469  7.185  61.1  4.9671    2  242.0   \n",
              "3  0.03237   0.0   2.18     0  0.458  6.998  45.8  6.0622    3  222.0   \n",
              "4  0.06905   0.0   2.18     0  0.458  7.147  54.2  6.0622    3  222.0   \n",
              "\n",
              "   PTRATIO       B  LSTAT  MEDV  isHighValue  \n",
              "0     15.3  396.90   4.98  24.0            0  \n",
              "1     17.8  396.90   9.14  21.6            0  \n",
              "2     17.8  392.83   4.03  34.7            1  \n",
              "3     18.7  394.63   2.94  33.4            1  \n",
              "4     18.7  396.90   5.33  36.2            1  "
            ],
            "text/html": [
              "\n",
              "  <div id=\"df-341cc825-f05f-4ed2-99d7-3109428025cc\" class=\"colab-df-container\">\n",
              "    <div>\n",
              "<style scoped>\n",
              "    .dataframe tbody tr th:only-of-type {\n",
              "        vertical-align: middle;\n",
              "    }\n",
              "\n",
              "    .dataframe tbody tr th {\n",
              "        vertical-align: top;\n",
              "    }\n",
              "\n",
              "    .dataframe thead th {\n",
              "        text-align: right;\n",
              "    }\n",
              "</style>\n",
              "<table border=\"1\" class=\"dataframe\">\n",
              "  <thead>\n",
              "    <tr style=\"text-align: right;\">\n",
              "      <th></th>\n",
              "      <th>CRIM</th>\n",
              "      <th>ZN</th>\n",
              "      <th>INDUS</th>\n",
              "      <th>CHAS</th>\n",
              "      <th>NOX</th>\n",
              "      <th>RM</th>\n",
              "      <th>AGE</th>\n",
              "      <th>DIS</th>\n",
              "      <th>RAD</th>\n",
              "      <th>TAX</th>\n",
              "      <th>PTRATIO</th>\n",
              "      <th>B</th>\n",
              "      <th>LSTAT</th>\n",
              "      <th>MEDV</th>\n",
              "      <th>isHighValue</th>\n",
              "    </tr>\n",
              "  </thead>\n",
              "  <tbody>\n",
              "    <tr>\n",
              "      <th>0</th>\n",
              "      <td>0.00632</td>\n",
              "      <td>18.0</td>\n",
              "      <td>2.31</td>\n",
              "      <td>0</td>\n",
              "      <td>0.538</td>\n",
              "      <td>6.575</td>\n",
              "      <td>65.2</td>\n",
              "      <td>4.0900</td>\n",
              "      <td>1</td>\n",
              "      <td>296.0</td>\n",
              "      <td>15.3</td>\n",
              "      <td>396.90</td>\n",
              "      <td>4.98</td>\n",
              "      <td>24.0</td>\n",
              "      <td>0</td>\n",
              "    </tr>\n",
              "    <tr>\n",
              "      <th>1</th>\n",
              "      <td>0.02731</td>\n",
              "      <td>0.0</td>\n",
              "      <td>7.07</td>\n",
              "      <td>0</td>\n",
              "      <td>0.469</td>\n",
              "      <td>6.421</td>\n",
              "      <td>78.9</td>\n",
              "      <td>4.9671</td>\n",
              "      <td>2</td>\n",
              "      <td>242.0</td>\n",
              "      <td>17.8</td>\n",
              "      <td>396.90</td>\n",
              "      <td>9.14</td>\n",
              "      <td>21.6</td>\n",
              "      <td>0</td>\n",
              "    </tr>\n",
              "    <tr>\n",
              "      <th>2</th>\n",
              "      <td>0.02729</td>\n",
              "      <td>0.0</td>\n",
              "      <td>7.07</td>\n",
              "      <td>0</td>\n",
              "      <td>0.469</td>\n",
              "      <td>7.185</td>\n",
              "      <td>61.1</td>\n",
              "      <td>4.9671</td>\n",
              "      <td>2</td>\n",
              "      <td>242.0</td>\n",
              "      <td>17.8</td>\n",
              "      <td>392.83</td>\n",
              "      <td>4.03</td>\n",
              "      <td>34.7</td>\n",
              "      <td>1</td>\n",
              "    </tr>\n",
              "    <tr>\n",
              "      <th>3</th>\n",
              "      <td>0.03237</td>\n",
              "      <td>0.0</td>\n",
              "      <td>2.18</td>\n",
              "      <td>0</td>\n",
              "      <td>0.458</td>\n",
              "      <td>6.998</td>\n",
              "      <td>45.8</td>\n",
              "      <td>6.0622</td>\n",
              "      <td>3</td>\n",
              "      <td>222.0</td>\n",
              "      <td>18.7</td>\n",
              "      <td>394.63</td>\n",
              "      <td>2.94</td>\n",
              "      <td>33.4</td>\n",
              "      <td>1</td>\n",
              "    </tr>\n",
              "    <tr>\n",
              "      <th>4</th>\n",
              "      <td>0.06905</td>\n",
              "      <td>0.0</td>\n",
              "      <td>2.18</td>\n",
              "      <td>0</td>\n",
              "      <td>0.458</td>\n",
              "      <td>7.147</td>\n",
              "      <td>54.2</td>\n",
              "      <td>6.0622</td>\n",
              "      <td>3</td>\n",
              "      <td>222.0</td>\n",
              "      <td>18.7</td>\n",
              "      <td>396.90</td>\n",
              "      <td>5.33</td>\n",
              "      <td>36.2</td>\n",
              "      <td>1</td>\n",
              "    </tr>\n",
              "  </tbody>\n",
              "</table>\n",
              "</div>\n",
              "    <div class=\"colab-df-buttons\">\n",
              "\n",
              "  <div class=\"colab-df-container\">\n",
              "    <button class=\"colab-df-convert\" onclick=\"convertToInteractive('df-341cc825-f05f-4ed2-99d7-3109428025cc')\"\n",
              "            title=\"Convert this dataframe to an interactive table.\"\n",
              "            style=\"display:none;\">\n",
              "\n",
              "  <svg xmlns=\"http://www.w3.org/2000/svg\" height=\"24px\" viewBox=\"0 -960 960 960\">\n",
              "    <path d=\"M120-120v-720h720v720H120Zm60-500h600v-160H180v160Zm220 220h160v-160H400v160Zm0 220h160v-160H400v160ZM180-400h160v-160H180v160Zm440 0h160v-160H620v160ZM180-180h160v-160H180v160Zm440 0h160v-160H620v160Z\"/>\n",
              "  </svg>\n",
              "    </button>\n",
              "\n",
              "  <style>\n",
              "    .colab-df-container {\n",
              "      display:flex;\n",
              "      gap: 12px;\n",
              "    }\n",
              "\n",
              "    .colab-df-convert {\n",
              "      background-color: #E8F0FE;\n",
              "      border: none;\n",
              "      border-radius: 50%;\n",
              "      cursor: pointer;\n",
              "      display: none;\n",
              "      fill: #1967D2;\n",
              "      height: 32px;\n",
              "      padding: 0 0 0 0;\n",
              "      width: 32px;\n",
              "    }\n",
              "\n",
              "    .colab-df-convert:hover {\n",
              "      background-color: #E2EBFA;\n",
              "      box-shadow: 0px 1px 2px rgba(60, 64, 67, 0.3), 0px 1px 3px 1px rgba(60, 64, 67, 0.15);\n",
              "      fill: #174EA6;\n",
              "    }\n",
              "\n",
              "    .colab-df-buttons div {\n",
              "      margin-bottom: 4px;\n",
              "    }\n",
              "\n",
              "    [theme=dark] .colab-df-convert {\n",
              "      background-color: #3B4455;\n",
              "      fill: #D2E3FC;\n",
              "    }\n",
              "\n",
              "    [theme=dark] .colab-df-convert:hover {\n",
              "      background-color: #434B5C;\n",
              "      box-shadow: 0px 1px 3px 1px rgba(0, 0, 0, 0.15);\n",
              "      filter: drop-shadow(0px 1px 2px rgba(0, 0, 0, 0.3));\n",
              "      fill: #FFFFFF;\n",
              "    }\n",
              "  </style>\n",
              "\n",
              "    <script>\n",
              "      const buttonEl =\n",
              "        document.querySelector('#df-341cc825-f05f-4ed2-99d7-3109428025cc button.colab-df-convert');\n",
              "      buttonEl.style.display =\n",
              "        google.colab.kernel.accessAllowed ? 'block' : 'none';\n",
              "\n",
              "      async function convertToInteractive(key) {\n",
              "        const element = document.querySelector('#df-341cc825-f05f-4ed2-99d7-3109428025cc');\n",
              "        const dataTable =\n",
              "          await google.colab.kernel.invokeFunction('convertToInteractive',\n",
              "                                                    [key], {});\n",
              "        if (!dataTable) return;\n",
              "\n",
              "        const docLinkHtml = 'Like what you see? Visit the ' +\n",
              "          '<a target=\"_blank\" href=https://colab.research.google.com/notebooks/data_table.ipynb>data table notebook</a>'\n",
              "          + ' to learn more about interactive tables.';\n",
              "        element.innerHTML = '';\n",
              "        dataTable['output_type'] = 'display_data';\n",
              "        await google.colab.output.renderOutput(dataTable, element);\n",
              "        const docLink = document.createElement('div');\n",
              "        docLink.innerHTML = docLinkHtml;\n",
              "        element.appendChild(docLink);\n",
              "      }\n",
              "    </script>\n",
              "  </div>\n",
              "\n",
              "\n",
              "<div id=\"df-d4c6dd49-1d64-4bb9-84bc-2db502255f3a\">\n",
              "  <button class=\"colab-df-quickchart\" onclick=\"quickchart('df-d4c6dd49-1d64-4bb9-84bc-2db502255f3a')\"\n",
              "            title=\"Suggest charts.\"\n",
              "            style=\"display:none;\">\n",
              "\n",
              "<svg xmlns=\"http://www.w3.org/2000/svg\" height=\"24px\"viewBox=\"0 0 24 24\"\n",
              "     width=\"24px\">\n",
              "    <g>\n",
              "        <path d=\"M19 3H5c-1.1 0-2 .9-2 2v14c0 1.1.9 2 2 2h14c1.1 0 2-.9 2-2V5c0-1.1-.9-2-2-2zM9 17H7v-7h2v7zm4 0h-2V7h2v10zm4 0h-2v-4h2v4z\"/>\n",
              "    </g>\n",
              "</svg>\n",
              "  </button>\n",
              "\n",
              "<style>\n",
              "  .colab-df-quickchart {\n",
              "      --bg-color: #E8F0FE;\n",
              "      --fill-color: #1967D2;\n",
              "      --hover-bg-color: #E2EBFA;\n",
              "      --hover-fill-color: #174EA6;\n",
              "      --disabled-fill-color: #AAA;\n",
              "      --disabled-bg-color: #DDD;\n",
              "  }\n",
              "\n",
              "  [theme=dark] .colab-df-quickchart {\n",
              "      --bg-color: #3B4455;\n",
              "      --fill-color: #D2E3FC;\n",
              "      --hover-bg-color: #434B5C;\n",
              "      --hover-fill-color: #FFFFFF;\n",
              "      --disabled-bg-color: #3B4455;\n",
              "      --disabled-fill-color: #666;\n",
              "  }\n",
              "\n",
              "  .colab-df-quickchart {\n",
              "    background-color: var(--bg-color);\n",
              "    border: none;\n",
              "    border-radius: 50%;\n",
              "    cursor: pointer;\n",
              "    display: none;\n",
              "    fill: var(--fill-color);\n",
              "    height: 32px;\n",
              "    padding: 0;\n",
              "    width: 32px;\n",
              "  }\n",
              "\n",
              "  .colab-df-quickchart:hover {\n",
              "    background-color: var(--hover-bg-color);\n",
              "    box-shadow: 0 1px 2px rgba(60, 64, 67, 0.3), 0 1px 3px 1px rgba(60, 64, 67, 0.15);\n",
              "    fill: var(--button-hover-fill-color);\n",
              "  }\n",
              "\n",
              "  .colab-df-quickchart-complete:disabled,\n",
              "  .colab-df-quickchart-complete:disabled:hover {\n",
              "    background-color: var(--disabled-bg-color);\n",
              "    fill: var(--disabled-fill-color);\n",
              "    box-shadow: none;\n",
              "  }\n",
              "\n",
              "  .colab-df-spinner {\n",
              "    border: 2px solid var(--fill-color);\n",
              "    border-color: transparent;\n",
              "    border-bottom-color: var(--fill-color);\n",
              "    animation:\n",
              "      spin 1s steps(1) infinite;\n",
              "  }\n",
              "\n",
              "  @keyframes spin {\n",
              "    0% {\n",
              "      border-color: transparent;\n",
              "      border-bottom-color: var(--fill-color);\n",
              "      border-left-color: var(--fill-color);\n",
              "    }\n",
              "    20% {\n",
              "      border-color: transparent;\n",
              "      border-left-color: var(--fill-color);\n",
              "      border-top-color: var(--fill-color);\n",
              "    }\n",
              "    30% {\n",
              "      border-color: transparent;\n",
              "      border-left-color: var(--fill-color);\n",
              "      border-top-color: var(--fill-color);\n",
              "      border-right-color: var(--fill-color);\n",
              "    }\n",
              "    40% {\n",
              "      border-color: transparent;\n",
              "      border-right-color: var(--fill-color);\n",
              "      border-top-color: var(--fill-color);\n",
              "    }\n",
              "    60% {\n",
              "      border-color: transparent;\n",
              "      border-right-color: var(--fill-color);\n",
              "    }\n",
              "    80% {\n",
              "      border-color: transparent;\n",
              "      border-right-color: var(--fill-color);\n",
              "      border-bottom-color: var(--fill-color);\n",
              "    }\n",
              "    90% {\n",
              "      border-color: transparent;\n",
              "      border-bottom-color: var(--fill-color);\n",
              "    }\n",
              "  }\n",
              "</style>\n",
              "\n",
              "  <script>\n",
              "    async function quickchart(key) {\n",
              "      const quickchartButtonEl =\n",
              "        document.querySelector('#' + key + ' button');\n",
              "      quickchartButtonEl.disabled = true;  // To prevent multiple clicks.\n",
              "      quickchartButtonEl.classList.add('colab-df-spinner');\n",
              "      try {\n",
              "        const charts = await google.colab.kernel.invokeFunction(\n",
              "            'suggestCharts', [key], {});\n",
              "      } catch (error) {\n",
              "        console.error('Error during call to suggestCharts:', error);\n",
              "      }\n",
              "      quickchartButtonEl.classList.remove('colab-df-spinner');\n",
              "      quickchartButtonEl.classList.add('colab-df-quickchart-complete');\n",
              "    }\n",
              "    (() => {\n",
              "      let quickchartButtonEl =\n",
              "        document.querySelector('#df-d4c6dd49-1d64-4bb9-84bc-2db502255f3a button');\n",
              "      quickchartButtonEl.style.display =\n",
              "        google.colab.kernel.accessAllowed ? 'block' : 'none';\n",
              "    })();\n",
              "  </script>\n",
              "</div>\n",
              "    </div>\n",
              "  </div>\n"
            ]
          },
          "metadata": {},
          "execution_count": 2
        }
      ]
    },
    {
      "cell_type": "code",
      "source": [
        "# 2. 데이터 전처리 (데이터 확인 - 결측치 처리 - 이상치 처리 - 변수 변환)\n",
        "\n",
        "# 2.1 데이터 확인\n",
        "print(data.shape)\n",
        "print(data.info())\n",
        "print(data.describe())\n",
        "\n",
        "# 2.2 결측치 확인\n",
        "print(data.isnull().sum())\n",
        "print(data.isnull().sum()/data.shape[0])  # 결측치 비율 확인  data.shape[0] -> 행의 개수?\n",
        "\n",
        "# 결측치 대체(중앙값)\n",
        "data1 = data.copy()\n",
        "med_val = data['CRIM'].median()  # CRIM의 중앙값\n",
        "data1['CRIM'] = data1['CRIM'].fillna(med_val) # 중앙값으로 결측치 대체\n",
        "\n",
        "# data.loc[행의조건, 열의조건]\n",
        "data = data.loc[data['CRIM'].notnull(),]  # CRIM이 null이 아닌 행만 선택, 열 조건은 생략해서 모든 열 선택\n",
        "print(data.describe)\n",
        "# 결측치를 제거할 경우 dropna 사용"
      ],
      "metadata": {
        "id": "QSuhi-h-IJjV"
      },
      "execution_count": null,
      "outputs": []
    },
    {
      "cell_type": "code",
      "source": [
        "# 2.3 이상치 확인 (IQR, 비율 확인)\n",
        "import seaborn as sns\n",
        "sns.boxplot(data['MEDV'])\n",
        "\n",
        "Q1,Q3 = data['MEDV'].quantile([0.25,0.75])\n",
        "IQR = Q3 - Q1  # 사분위수 범위\n",
        "upper_bound = Q3 +1.5*IQR  # 큰 이상치 기준\n",
        "lower_bound = Q1 -1.5*IQR  # 작은 이상치 기준\n",
        "\n",
        "print('outlier 범위 : %.2f 초과 또는 %.2f 미만' % (upper_bound, lower_bound))  # %.2f -> 소수점 아래 두자리까지 표시\n",
        "print('outlier 개수 : %.0f'% len(data[(data['MEDV']>upper_bound)|(data['MEDV']<lower_bound)]))\n",
        "print('outlier 비율 : %.2f'% (len(data[(data['MEDV']>upper_bound)|(data['MEDV']<lower_bound)])/len(data)))\n",
        "\n",
        "# 이상치 제거\n",
        "data1 = data[(data['MEDV']<= upper_bound)&(data['MEDV']>=lower_bound)]  # 이상치 기준 사이의 값들만 data1로 저장\n",
        "data2 = data[~(data['MEDV']>=45)] # MEDV값이 45 이상인 경우 이상치로 보고 제거 / ~은 not의 의미 45 이상이 아닌 MEDV만 선택"
      ],
      "metadata": {
        "id": "nKHtDEWuJxUm"
      },
      "execution_count": null,
      "outputs": []
    },
    {
      "cell_type": "code",
      "source": [
        "# IQR 값 기준 이상치 함수화 방법\n",
        "def get_outlier_prop(x):\n",
        "  Q1, Q3 = x.quantile([0.25,0.75])\n",
        "  IQR = Q3 - Q1\n",
        "  upper_bound = Q3 + 1.5 * IQR\n",
        "  lower_bound = Q1 - 1.5 * IQR\n",
        "  outliers = x[(x>upper_bound)|(x<lower_bound)]\n",
        "  return str(round(100 * len(outliers)/len(x), 1))+'%'\n",
        "\n",
        "# apply 메서드를 사용하면 데이터프레임의 열 또는 행에 사용자 지정 함수를 적용하여\n",
        "# 데이터를 변환하거나 요약하는 작업을 수행\n",
        "print(data.apply(get_outlier_prop))  # data의 각 열을 get_outlier_prop 함수에 적용"
      ],
      "metadata": {
        "id": "pBrwYWXpKh56"
      },
      "execution_count": null,
      "outputs": []
    },
    {
      "cell_type": "code",
      "source": [
        "# 2.4 변수 변환 (로그 변환, 제곱근 변환 등 + 스케일링)\n",
        "\n",
        "# 변수 분포 확인\n",
        "import matplotlib.pyplot as plt\n",
        "import seaborn as sns\n",
        "\n",
        "cols = data.columns\n",
        "\n",
        "fig, axs = plt.subplots(ncols = 5, nrows = 3, figsize = (20,10))  # 3행 5열로 총 15개 서브플롯 생성\n",
        "idx = 0  # 서브플롯을 순서대로 채우기 위한 인덱스 변수 초기화?\n",
        "for _row in range(3):\n",
        "  for _col in range(5):\n",
        "    if idx < len(cols):\n",
        "      sns.distplot(data[cols[idx]], ax = axs[_row][_col])\n",
        "      idx += 1\n",
        "plt.tight_layout()\n",
        "\n",
        "# 변수 왜도 확인 (왜도 절댓값이 3이상이면 크게 치우쳐져 있다고 판단)\n",
        "print(data.apply(lambda x : x.skew(), axis = 0))  # lambda -> 간단한 함수를 인라인으로 정의할 때 사용?\n",
        "\n",
        "# 로그 변환\n",
        "import numpy as np\n",
        "\n",
        "# 로그 변환은 양수만 가능하니까 1p(1+) 해줌 -> np.log1p(data['CRIM']) = np.log(data['CRIM']+1)\n",
        "data['CRIM'] = np.log1p(data['CRIM'])\n",
        "print(data['CRIM'].skew())"
      ],
      "metadata": {
        "id": "ksEmDsnZObQQ"
      },
      "execution_count": null,
      "outputs": []
    },
    {
      "cell_type": "code",
      "source": [
        "# 3. 회귀 모델링\n",
        "\n",
        "# 3.1 데이터 생성 및 탐색  (종속변수 MEDV)\n",
        "df_r = data.drop(['isHighValue'], axis = 1)\n",
        "\n",
        "# 변수 상관관계 확인\n",
        "cols = ['MEDV','LSTAT','RM','CHAS','RAD','TAX']\n",
        "print(df_r[cols].corr())\n",
        "# 상관계수 확인 결과 종속변수 MEDV와 강한 상관관계를 가지는 변수는 LSTAT과 RM으로 나타남\n",
        "# 하지만 LSTAT과 RM이 서로 상관관계가 높으므로 다중공선성을 갖음\n",
        "# 이런 경우 둘 중 하나의 변수만 사용하거나 주성분 분석등의 방법을 사용함\n",
        "\n",
        "# 3.2 분석 모형 구축\n",
        "\n",
        "# 3.2.1 데이터 분할\n",
        "from sklearn.model_selection import train_test_split\n",
        "\n",
        "X_cols = ['LSTAT','PTRATIO','TAX','AGE','NOX','INDUS','CRIM']\n",
        "\n",
        "X = df_r[X_cols].values\n",
        "y = df_r['MEDV'].values\n",
        "\n",
        "# (x,y,test_size, random_state) -> x: 특성 데이터(변수?), y: 타겟 변수(집값)\n",
        "# X_train: 훈련 데이터의 특성(피처) 행렬.\n",
        "# X_test: 테스트 데이터의 특성 행렬.\n",
        "# y_train: 훈련 데이터의 타겟(목표) 변수(출력).\n",
        "# y_test: 테스트 데이터의 타겟 변수.\n",
        "X_train_r, X_test_r, y_train_r, y_test_r = train_test_split(X, y, test_size = 0.3, random_state = 123)\n",
        "\n",
        "# train_test_split(X, y, test_size = 0.3, random_state = 123) 실행하면 4개의 값을 반환하고\n",
        "# 그 값을 X_train_r, X_test_r, y_train_r, y_test_r 에 저장하는 코드?\n",
        "\n",
        "# 3.2.2 데이터 스케일링\n",
        "from sklearn.preprocessing import MinMaxScaler\n",
        "\n",
        "scaler = MinMaxScaler()\n",
        "\n",
        "X_train_r_scaled = scaler.fit_transform(X_train_r)\n",
        "X_test_r_scaled = scaler.fit_transform(X_test_r)"
      ],
      "metadata": {
        "id": "XC4VM0GyTzCl"
      },
      "execution_count": null,
      "outputs": []
    },
    {
      "cell_type": "code",
      "source": [
        "# 3.2.3 모델 구축 (선형 회귀, SVM, 랜덤포레스트)\n",
        "\n",
        "# 선형 회귀\n",
        "from sklearn.linear_model import LinearRegression\n",
        "\n",
        "model_lr = LinearRegression()\n",
        "model_lr.fit(X_train_r_scaled, y_train_r)\n",
        "\n",
        "# 선형 회귀 모델의 계수와 절편 확인\n",
        "print(model_lr.coef_)  # 계수?\n",
        "print(model_lr.intercept_) # 절편\n",
        "\n",
        "# SVM\n",
        "from sklearn.svm import SVR\n",
        "\n",
        "model_svr = SVR()\n",
        "model_svr.fit(X_train_r_scaled, y_train_r)\n",
        "\n",
        "# 랜덤포레스트\n",
        "from sklearn.ensemble import RandomForestRegressor\n",
        "\n",
        "model_rfr = RandomForestRegressor(random_state = 123)\n",
        "model_rfr.fit(X_train_r_scaled, y_train_r)\n",
        "\n",
        "# rfr? 모델에서 사용하는 변수 중요도 확인 방법\n",
        "for x, val in zip(X_cols, model_rfr.feature_importances_):\n",
        "  print(f'{x} : %.3f' %val)"
      ],
      "metadata": {
        "id": "5PKwHpIZX8q_"
      },
      "execution_count": null,
      "outputs": []
    },
    {
      "cell_type": "code",
      "source": [
        "# 3.3 분석 모형 평가 (평가 지표 중 MAE, MSE, MAPE 사용)\n",
        "\n",
        "# 예측값 생성\n",
        "y_pred_lr = model_lr.predict(X_test_r_scaled)\n",
        "y_pred_svr = model_svr.predict(X_test_r_scaled)\n",
        "y_pred_rfr = model_rfr.predict(X_test_r_scaled)\n",
        "\n",
        "# 평가 지표 계산 (MAE, MSE, MAPE)\n",
        "from sklearn.metrics import mean_absolute_error, mean_squared_error, mean_absolute_percentage_error\n",
        "\n",
        "print('-'*30)\n",
        "print('선형 회귀 결과')\n",
        "print('MAE : %.3f' %mean_absolute_error(y_test_r, y_pred_lr))\n",
        "print('MSE : %.3f' %mean_squared_error(y_test_r, y_pred_lr))\n",
        "print('MAPE : %.3f' %mean_absolute_percentage_error(y_test_r, y_pred_lr))\n",
        "print('-'*30)\n",
        "print('SVM 결과')\n",
        "print('MAE : %.3f' %mean_absolute_error(y_test_r, y_pred_svr))\n",
        "print('MSE : %.3f' %mean_squared_error(y_test_r, y_pred_svr))\n",
        "print('MAPE : %.3f' %mean_absolute_percentage_error(y_test_r, y_pred_svr))\n",
        "print('-'*30)\n",
        "print('랜덤포레스트 결과')\n",
        "print('MAE : %.3f' %mean_absolute_error(y_test_r, y_pred_rfr))\n",
        "print('MSE : %.3f' %mean_squared_error(y_test_r, y_pred_rfr))\n",
        "print('MAPE : %.3f' %mean_absolute_percentage_error(y_test_r, y_pred_rfr))\n",
        "print('-'*30)"
      ],
      "metadata": {
        "colab": {
          "base_uri": "https://localhost:8080/"
        },
        "id": "pFPapv-2Z_B1",
        "outputId": "f5d14e23-f9f7-407d-e8dd-5efdba42980c"
      },
      "execution_count": 47,
      "outputs": [
        {
          "output_type": "stream",
          "name": "stdout",
          "text": [
            "------------------------------\n",
            "선형 회귀 결과\n",
            "MAE : 4.358\n",
            "MSE : 35.076\n",
            "MAPE : 0.219\n",
            "------------------------------\n",
            "SVM 결과\n",
            "MAE : 3.886\n",
            "MSE : 37.733\n",
            "MAPE : 0.173\n",
            "------------------------------\n",
            "랜덤포레스트 결과\n",
            "MAE : 3.165\n",
            "MSE : 20.694\n",
            "MAPE : 0.156\n",
            "------------------------------\n"
          ]
        }
      ]
    },
    {
      "cell_type": "code",
      "source": [
        "# 4. 분류 모델링\n",
        "\n",
        "# 4.1 데이터 생성 및 탐색  (종속변수 isHIghValue)\n",
        "df_c = data.drop(['MEDV'], axis = 1)\n",
        "\n",
        "import seaborn as sns\n",
        "# LSTAT 변수 박스플롯\n",
        "# sns.boxplot(x = 'isHighValue', y = 'LSTAT', data = df_c)\n",
        "\n",
        "#LSTAT 변수 kde플롯  / 박스플롯이랑 따로 실행해야 나옴\n",
        "sns.kdeplot(df_c.loc[df_c['isHighValue']==1, 'LSTAT'], color = 'orange', fill = True)\n",
        "sns.kdeplot(df_c.loc[df_c['isHighValue']==0, 'LSTAT'], color = 'blue', fill = True)\n",
        "\n",
        "# 시험에서는 시각화를 사용할 수 없어서 종속변수에 따른 각 독립변수의 평균값(또는 백분위수)을 구하여 유효한 변수 구하기\n",
        "import numpy as np\n",
        "\n",
        "print(df_c.groupby('isHighValue').apply(np.mean).T)\n",
        "# T: 전치(transpose) 연산을 수행. 이는 데이터프레임의 행과 열을 바꿔줌. 2행 3열 -> 3행 2열\n",
        "# 즉, 그룹별 평균이 행이 아니라 열로 나타냄, Pandas에서 사용 가능한 속성"
      ],
      "metadata": {
        "id": "KG86Ml5jesq2"
      },
      "execution_count": null,
      "outputs": []
    },
    {
      "cell_type": "code",
      "source": [
        "# 4.2 분석 모형 구축\n",
        "\n",
        "# 4.2.1 데이터 분할\n",
        "from sklearn.model_selection import train_test_split\n",
        "\n",
        "X_cols = ['LSTAT','PTRATIO','TAX','AGE','NOX','INDUS','CRIM']\n",
        "\n",
        "X = data[X_cols].values\n",
        "y = data['isHighValue'].values\n",
        "\n",
        "X_train_c, X_test_c, y_train_c, y_test_c = train_test_split(X, y, test_size = 0.3, random_state = 123)\n",
        "\n",
        "# 4.2.2 데이터 스케일링\n",
        "from sklearn.preprocessing import MinMaxScaler\n",
        "\n",
        "scaler = MinMaxScaler()\n",
        "\n",
        "X_train_c_scaled = scaler.fit_transform(X_train_c)\n",
        "X_test_c_scaled = scaler.fit_transform(X_test_c)"
      ],
      "metadata": {
        "id": "g8HnmUdMhRhu"
      },
      "execution_count": 9,
      "outputs": []
    },
    {
      "cell_type": "code",
      "source": [
        "# 4.2.3 모델 구축 (로지스틱 회귀, SVM, 랜덤포레스트)\n",
        "\n",
        "# 로지스틱 회귀 학습\n",
        "from sklearn.linear_model import LogisticRegression\n",
        "\n",
        "model_lo = LogisticRegression()\n",
        "model_lo.fit(X_train_c_scaled, y_train_c)\n",
        "\n",
        "# 로지스틱 회귀 모델의 계수와 절편 확인\n",
        "print(model_lo.coef_)  # 계수?\n",
        "print(model_lo.intercept_) # 절편\n",
        "\n",
        "# SVM\n",
        "from sklearn.svm import SVC\n",
        "\n",
        "model_svc = SVC(probability=True)  # probability=True는 SVC 모델이 클래스 확률을 제공할 수 있도록 하는 옵션\n",
        "model_svc.fit(X_train_c_scaled, y_train_c)\n",
        "\n",
        "# 랜덤포레스트\n",
        "from sklearn.ensemble import RandomForestClassifier\n",
        "\n",
        "model_rfc = RandomForestClassifier(random_state = 123)\n",
        "model_rfc.fit(X_train_c_scaled, y_train_c)\n",
        "\n",
        "# rfc? 모델에서 사용하는 변수 중요도 확인 방법\n",
        "for x, val in zip(X_cols, model_rfc.feature_importances_):\n",
        "  print(f'{x} : %.3f' %val)"
      ],
      "metadata": {
        "colab": {
          "base_uri": "https://localhost:8080/"
        },
        "id": "eUU4hHlVjt_N",
        "outputId": "88f582a7-4406-4f46-bf99-71aa6175b32b"
      },
      "execution_count": 14,
      "outputs": [
        {
          "output_type": "stream",
          "name": "stdout",
          "text": [
            "[[-4.67917856 -2.26271976 -0.80852617  0.45926521 -0.32914015 -1.36930599\n",
            "   0.86834454]]\n",
            "[1.90334599]\n",
            "LSTAT : 0.378\n",
            "PTRATIO : 0.105\n",
            "TAX : 0.112\n",
            "AGE : 0.087\n",
            "NOX : 0.080\n",
            "INDUS : 0.134\n",
            "CRIM : 0.104\n"
          ]
        }
      ]
    },
    {
      "cell_type": "code",
      "source": [
        "# 4.3 분석 모형 평가\n",
        "\n",
        "# 예측값 생성  threshold가 0.5인 상태로 예측값을 구하고 0.5 이상은 1 아니면 0인 결과를 얻음\n",
        "y_pred_lo = model_lo.predict(X_test_c_scaled)\n",
        "y_pred_svc = model_svc.predict(X_test_c_scaled)\n",
        "y_pred_rfc = model_rfc.predict(X_test_c_scaled)\n",
        "\n",
        "# 평가 지표 계산 (평가 지표 accuracy_score, precision_score, recall_score -> classification_report 한번에 계산 가능)\n",
        "from sklearn.metrics import classification_report\n",
        "\n",
        "print('-'*60)\n",
        "print('로지스틱 회귀 결과')\n",
        "print(classification_report(y_test_c, y_pred_lo, labels = [0,1]))\n",
        "print('-'*60)\n",
        "print('SVM 결과')\n",
        "print(classification_report(y_test_c, y_pred_svc, labels = [0,1]))\n",
        "print('-'*60)\n",
        "print('랜덤포레스트 결과')\n",
        "print(classification_report(y_test_c, y_pred_rfc, labels = [0,1]))\n",
        "print('-'*60)"
      ],
      "metadata": {
        "id": "KsWsqxrgkjSo"
      },
      "execution_count": null,
      "outputs": []
    },
    {
      "cell_type": "code",
      "source": [
        "# AUROC 계산\n",
        "from sklearn.metrics import roc_auc_score\n",
        "\n",
        "y_pred_lo = model_lo.predict_proba(X_test_c_scaled)[:, 1]\n",
        "y_pred_svc = model_svc.predict_proba(X_test_c_scaled)[:, 1]\n",
        "y_pred_rfc = model_rfc.predict_proba(X_test_c_scaled)[:, 1]\n",
        "# 위에서 0.5 이상은 1 미만은 0으로 이진 분류를 했으니까 1인 확률?을 구하는거?\n",
        "# ROC-AUC 점수가 높을수록 분류 능력 우수함,(곡선 아래 면적 구하는 뭐였는데)\n",
        "\n",
        "print('로지스틱 회귀 결과 : %.3f' %roc_auc_score(y_test_c,y_pred_lo))\n",
        "print('SVM 결과 : %.3f' %roc_auc_score(y_test_c,y_pred_svc))\n",
        "print('랜덤포레스트 결과 : %.3f' %roc_auc_score(y_test_c,y_pred_rfc))"
      ],
      "metadata": {
        "colab": {
          "base_uri": "https://localhost:8080/"
        },
        "id": "vN4Ge_VrLiOW",
        "outputId": "b67d012b-2945-47d6-f04d-23df426905ff"
      },
      "execution_count": 19,
      "outputs": [
        {
          "output_type": "stream",
          "name": "stdout",
          "text": [
            "로지스틱 회귀 결과 : 0.914\n",
            "SVM 결과 : 0.936\n",
            "랜덤포레스트 결과 : 0.959\n"
          ]
        }
      ]
    },
    {
      "cell_type": "markdown",
      "source": [
        "StandardScaler (표준 스케일러):\n",
        "\n",
        "평균이 0이고 표준 편차가 1인 정규 분포 형태로 스케일링됩니다.\n",
        "이상치(outliers)에 영향을 덜 받습니다.\n",
        "주로 선형 모델(선형 회귀, 로지스틱 회귀) 및 기타 거리 기반 모델 (K-최근접 이웃, 서포트 벡터 머신)에 사용됩니다.\n",
        "\n",
        "MinMaxScaler (최소-최대 스케일러):\n",
        "\n",
        "데이터를 0과 1 사이의 범위로 스케일링합니다.\n",
        "데이터가 양수 값으로 제한되어 있고, 다른 스케일러를 사용하면 이해하기 어려울 때 사용됩니다.\n",
        "딥러닝 모델 (신경망) 및 기타 모델에 사용됩니다.\n",
        "\n",
        "RobustScaler (로버스트 스케일러):\n",
        "\n",
        "이상치(outliers)에 대해 강건한 스케일링을 제공합니다.\n",
        "중앙값(median)과 IQR (Interquartile Range)을 사용하여 스케일링합니다.\n",
        "데이터에 이상치가 많이 포함된 경우에 유용합니다.\n",
        "\n",
        "QuantileTransformer (분위수 변환):\n",
        "\n",
        "데이터를 주어진 분위수에 따라 변환합니다.\n",
        "데이터를 정규 분포에 가깝게 스케일링하는 데 사용됩니다."
      ],
      "metadata": {
        "id": "UX7DhRpzfn9G"
      }
    },
    {
      "cell_type": "markdown",
      "source": [
        "# 실습"
      ],
      "metadata": {
        "id": "54-v372SPgxt"
      }
    },
    {
      "cell_type": "markdown",
      "source": [
        "## 실습1: Moter Trend Car Road Tests"
      ],
      "metadata": {
        "id": "SQo9BDUsp_0C"
      }
    },
    {
      "cell_type": "code",
      "source": [
        "# 기본 제공 코드\n",
        "import numpy as np\n",
        "import pandas as pd\n",
        "X_test = pd.read_csv('./yemoonsaBigdata/datasets/Part2/mpg_X_test.csv')\n",
        "X_train = pd.read_csv('./yemoonsaBigdata/datasets/Part2/mpg_X_train.csv')\n",
        "y_train = pd.read_csv('./yemoonsaBigdata/datasets/Part2/mpg_y_train.csv')"
      ],
      "metadata": {
        "id": "YaSnODLePlFT"
      },
      "execution_count": null,
      "outputs": []
    },
    {
      "cell_type": "code",
      "source": [
        "# 1. 데이터 전처리\n",
        "\n",
        "# 데이터 확인 (결측치, 데이터 타입 확인)\n",
        "X_train.info()  # horsepower에 3개의 결측치가 있음, 데이터 타입 변경 필요 없음\n",
        "\n",
        "# 결측치 채우기\n",
        "from sklearn.impute import SimpleImputer  # SimpleImputer 함수로 결측치 변경\n",
        "\n",
        "imputer = SimpleImputer(missing_values = np.nan, strategy = 'mean')  # strategy: 통계값이나 상수 입력\n",
        "X_train[['horsepower']] = imputer.fit_transform( X_train[['horsepower']]) # imputer를 사용하여 'horsepower' 열에서 결측값을 대체\n",
        "X_test[['horsepower']] = imputer.fit_transform( X_test[['horsepower']])   # fit_transform 메서드는 결측값을 대체하는 작업을 수행\n",
        "\n",
        "# 데이터 확인 (이상치 확인, 수치형 데이터 고르기?)\n",
        "X_train.describe()  # 특별한 이상치 없음\n",
        "\n",
        "# 변수 형태별 리스트 저장 (수치형 데이터만 선택)\n",
        "COL_DEL = ['name']\n",
        "COL_NUM = ['mpg','cylinders','displacement','horsepower','weight','acceleration','model_year']\n",
        "COL_CAT = []\n",
        "COL_Y = ['isUSA']\n",
        "\n",
        "X_train = X_train.iloc[:,1:]  # 첫 번째 열(name)을 제외한 모든 열 선택\n",
        "X_test = X_test.iloc[:,1:]    # 첫 번째 열(name)을 제외한 모든 열 선택"
      ],
      "metadata": {
        "id": "v_rIVbn-R1PR"
      },
      "execution_count": null,
      "outputs": []
    },
    {
      "cell_type": "code",
      "source": [
        "# 2. 데이터 모형 구축\n",
        "from sklearn.model_selection import train_test_split\n",
        "X_tr, X_val, y_tr, y_val = train_test_split(X_train, y_train, test_size = 0.3)\n",
        "\n",
        "# 스케일링 진행\n",
        "from sklearn.preprocessing import StandardScaler\n",
        "\n",
        "scaler = StandardScaler()\n",
        "scaler.fit(X_tr[COL_NUM])\n",
        "X_tr[COL_NUM]= scaler.transform(X_tr[COL_NUM])\n",
        "X_val[COL_NUM]= scaler.transform(X_val[COL_NUM])\n",
        "X_test[COL_NUM]= scaler.transform(X_test[COL_NUM])"
      ],
      "metadata": {
        "id": "wamiWXe_WJKU"
      },
      "execution_count": 25,
      "outputs": []
    },
    {
      "cell_type": "code",
      "source": [
        "# 3. 모델 학습(KNN, 의사결정나무 모형)\n",
        "\n",
        "# KNN\n",
        "from sklearn.neighbors import KNeighborsClassifier\n",
        "modelKNN = KNeighborsClassifier(n_neighbors = 5, metric = 'euclidean')\n",
        "modelKNN.fit(X_tr, y_tr.values.ravel())\n",
        "\n",
        "# 의사결정나무 모형\n",
        "from sklearn.tree import DecisionTreeClassifier\n",
        "modelDT = DecisionTreeClassifier(max_depth = 10)\n",
        "modelDT.fit(X_tr, y_tr)"
      ],
      "metadata": {
        "colab": {
          "base_uri": "https://localhost:8080/",
          "height": 75
        },
        "id": "y4SvEEKvfC46",
        "outputId": "7eb28f77-33c9-4861-baa0-af571d7b749b"
      },
      "execution_count": 35,
      "outputs": [
        {
          "output_type": "execute_result",
          "data": {
            "text/plain": [
              "DecisionTreeClassifier(max_depth=10)"
            ],
            "text/html": [
              "<style>#sk-container-id-4 {color: black;background-color: white;}#sk-container-id-4 pre{padding: 0;}#sk-container-id-4 div.sk-toggleable {background-color: white;}#sk-container-id-4 label.sk-toggleable__label {cursor: pointer;display: block;width: 100%;margin-bottom: 0;padding: 0.3em;box-sizing: border-box;text-align: center;}#sk-container-id-4 label.sk-toggleable__label-arrow:before {content: \"▸\";float: left;margin-right: 0.25em;color: #696969;}#sk-container-id-4 label.sk-toggleable__label-arrow:hover:before {color: black;}#sk-container-id-4 div.sk-estimator:hover label.sk-toggleable__label-arrow:before {color: black;}#sk-container-id-4 div.sk-toggleable__content {max-height: 0;max-width: 0;overflow: hidden;text-align: left;background-color: #f0f8ff;}#sk-container-id-4 div.sk-toggleable__content pre {margin: 0.2em;color: black;border-radius: 0.25em;background-color: #f0f8ff;}#sk-container-id-4 input.sk-toggleable__control:checked~div.sk-toggleable__content {max-height: 200px;max-width: 100%;overflow: auto;}#sk-container-id-4 input.sk-toggleable__control:checked~label.sk-toggleable__label-arrow:before {content: \"▾\";}#sk-container-id-4 div.sk-estimator input.sk-toggleable__control:checked~label.sk-toggleable__label {background-color: #d4ebff;}#sk-container-id-4 div.sk-label input.sk-toggleable__control:checked~label.sk-toggleable__label {background-color: #d4ebff;}#sk-container-id-4 input.sk-hidden--visually {border: 0;clip: rect(1px 1px 1px 1px);clip: rect(1px, 1px, 1px, 1px);height: 1px;margin: -1px;overflow: hidden;padding: 0;position: absolute;width: 1px;}#sk-container-id-4 div.sk-estimator {font-family: monospace;background-color: #f0f8ff;border: 1px dotted black;border-radius: 0.25em;box-sizing: border-box;margin-bottom: 0.5em;}#sk-container-id-4 div.sk-estimator:hover {background-color: #d4ebff;}#sk-container-id-4 div.sk-parallel-item::after {content: \"\";width: 100%;border-bottom: 1px solid gray;flex-grow: 1;}#sk-container-id-4 div.sk-label:hover label.sk-toggleable__label {background-color: #d4ebff;}#sk-container-id-4 div.sk-serial::before {content: \"\";position: absolute;border-left: 1px solid gray;box-sizing: border-box;top: 0;bottom: 0;left: 50%;z-index: 0;}#sk-container-id-4 div.sk-serial {display: flex;flex-direction: column;align-items: center;background-color: white;padding-right: 0.2em;padding-left: 0.2em;position: relative;}#sk-container-id-4 div.sk-item {position: relative;z-index: 1;}#sk-container-id-4 div.sk-parallel {display: flex;align-items: stretch;justify-content: center;background-color: white;position: relative;}#sk-container-id-4 div.sk-item::before, #sk-container-id-4 div.sk-parallel-item::before {content: \"\";position: absolute;border-left: 1px solid gray;box-sizing: border-box;top: 0;bottom: 0;left: 50%;z-index: -1;}#sk-container-id-4 div.sk-parallel-item {display: flex;flex-direction: column;z-index: 1;position: relative;background-color: white;}#sk-container-id-4 div.sk-parallel-item:first-child::after {align-self: flex-end;width: 50%;}#sk-container-id-4 div.sk-parallel-item:last-child::after {align-self: flex-start;width: 50%;}#sk-container-id-4 div.sk-parallel-item:only-child::after {width: 0;}#sk-container-id-4 div.sk-dashed-wrapped {border: 1px dashed gray;margin: 0 0.4em 0.5em 0.4em;box-sizing: border-box;padding-bottom: 0.4em;background-color: white;}#sk-container-id-4 div.sk-label label {font-family: monospace;font-weight: bold;display: inline-block;line-height: 1.2em;}#sk-container-id-4 div.sk-label-container {text-align: center;}#sk-container-id-4 div.sk-container {/* jupyter's `normalize.less` sets `[hidden] { display: none; }` but bootstrap.min.css set `[hidden] { display: none !important; }` so we also need the `!important` here to be able to override the default hidden behavior on the sphinx rendered scikit-learn.org. See: https://github.com/scikit-learn/scikit-learn/issues/21755 */display: inline-block !important;position: relative;}#sk-container-id-4 div.sk-text-repr-fallback {display: none;}</style><div id=\"sk-container-id-4\" class=\"sk-top-container\"><div class=\"sk-text-repr-fallback\"><pre>DecisionTreeClassifier(max_depth=10)</pre><b>In a Jupyter environment, please rerun this cell to show the HTML representation or trust the notebook. <br />On GitHub, the HTML representation is unable to render, please try loading this page with nbviewer.org.</b></div><div class=\"sk-container\" hidden><div class=\"sk-item\"><div class=\"sk-estimator sk-toggleable\"><input class=\"sk-toggleable__control sk-hidden--visually\" id=\"sk-estimator-id-4\" type=\"checkbox\" checked><label for=\"sk-estimator-id-4\" class=\"sk-toggleable__label sk-toggleable__label-arrow\">DecisionTreeClassifier</label><div class=\"sk-toggleable__content\"><pre>DecisionTreeClassifier(max_depth=10)</pre></div></div></div></div></div>"
            ]
          },
          "metadata": {},
          "execution_count": 35
        }
      ]
    },
    {
      "cell_type": "code",
      "source": [
        "# 4. 모델 평가\n",
        "y_val_pred = modelKNN.predict(X_val)\n",
        "\n",
        "y_val_pred_probaKNN = modelKNN.predict_proba(X_val)\n",
        "y_val_pred_probaDT = modelDT.predict_proba(X_val)\n",
        "\n",
        "# roc-auc_score 확인\n",
        "from sklearn.metrics import roc_auc_score\n",
        "\n",
        "scoreKNN = roc_auc_score(y_val, y_val_pred_probaKNN[:,1])\n",
        "scoreDT = roc_auc_score(y_val, y_val_pred_probaDT[:,1])\n",
        "\n",
        "print(scoreKNN, scoreDT)"
      ],
      "metadata": {
        "colab": {
          "base_uri": "https://localhost:8080/"
        },
        "id": "DfJqXSIpgcQm",
        "outputId": "d8d2d274-734a-4c84-87b2-17c0d44bf46e"
      },
      "execution_count": 36,
      "outputs": [
        {
          "output_type": "stream",
          "name": "stdout",
          "text": [
            "0.8723404255319149 0.8059229442208166\n"
          ]
        }
      ]
    },
    {
      "cell_type": "code",
      "source": [
        "# 하이퍼파라미터를 학습하는 모형을 저장하여 가장 높은 모형을 선택하는 코드\n",
        "best_model = None\n",
        "best_score = 0\n",
        "\n",
        "for i in range(2, 10):\n",
        "    model = KNeighborsClassifier(n_neighbors=i, metric='euclidean')\n",
        "    model.fit(X_tr, y_tr.values.ravel())\n",
        "    y_val_pred_proba = model.predict_proba(X_val)\n",
        "    score = roc_auc_score(y_val, y_val_pred_proba[:, 1])\n",
        "    print(i, '개의 이웃 확인 :', score)\n",
        "    if best_score <= score:\n",
        "        best_score = score  # Update best_score\n",
        "        best_model = model  # Update best_model\n",
        "\n",
        "print(\"최적의 이웃 개수:\", best_model.n_neighbors)\n",
        "print(\"최적의 ROC-AUC 점수:\", best_score)"
      ],
      "metadata": {
        "colab": {
          "base_uri": "https://localhost:8080/"
        },
        "id": "Hof8aMF0l5PT",
        "outputId": "a2bb17fc-dfe1-4258-c525-965c2efaa6b9"
      },
      "execution_count": 43,
      "outputs": [
        {
          "output_type": "stream",
          "name": "stdout",
          "text": [
            "2 개의 이웃 확인 : 0.8461759631972399\n",
            "3 개의 이웃 확인 : 0.8594019551466359\n",
            "4 개의 이웃 확인 : 0.8539390454284072\n",
            "5 개의 이웃 확인 : 0.8723404255319149\n",
            "6 개의 이웃 확인 : 0.886428982173663\n",
            "7 개의 이웃 확인 : 0.8933294997124784\n",
            "8 개의 이웃 확인 : 0.8898792409430708\n",
            "9 개의 이웃 확인 : 0.8815411155836688\n",
            "최적의 이웃 개수: 7\n",
            "최적의 ROC-AUC 점수: 0.8933294997124784\n"
          ]
        }
      ]
    },
    {
      "cell_type": "code",
      "source": [
        "# 제출물 만들기\n",
        "# print(best_model.predict_proba(X_test))  # 2열에서 1이 isUSA인 경우로 2열을 추출해야함\n",
        "\n",
        "pred = best_model.predict_proba(X_test)[:,1]\n",
        "print(pred)\n",
        "\n",
        "# 제출용 파일 저장\n",
        "pd.DataFrame({'isUSA': pred}).to_csv('./yemoonsaBigdata/res/00300000.csv', index=False)"
      ],
      "metadata": {
        "colab": {
          "base_uri": "https://localhost:8080/"
        },
        "id": "C0pN048tnFxf",
        "outputId": "2991ea76-8833-4a1f-8538-6d6668951974"
      },
      "execution_count": 46,
      "outputs": [
        {
          "output_type": "stream",
          "name": "stdout",
          "text": [
            "[0.42857143 0.57142857 1.         1.         0.42857143 0.28571429\n",
            " 0.14285714 0.28571429 0.42857143 0.57142857 1.         0.42857143\n",
            " 1.         0.57142857 0.14285714 0.28571429 1.         1.\n",
            " 0.14285714 1.         1.         1.         1.         1.\n",
            " 1.         0.42857143 0.14285714 1.         1.         0.57142857\n",
            " 0.14285714 0.14285714 0.57142857 0.85714286 1.         0.57142857\n",
            " 0.85714286 1.         0.14285714 0.57142857 1.         0.\n",
            " 0.14285714 0.71428571 0.42857143 0.42857143 0.42857143 1.\n",
            " 0.28571429 1.         0.         0.14285714 1.         0.14285714\n",
            " 1.         1.         1.         0.71428571 1.         0.28571429\n",
            " 0.85714286 0.85714286 1.         1.         0.85714286 1.\n",
            " 1.         0.28571429 0.85714286 0.14285714 1.         1.\n",
            " 0.71428571 0.         1.         0.28571429 1.         0.14285714\n",
            " 0.42857143 1.         1.         1.         0.14285714 1.\n",
            " 1.         1.         0.         0.14285714 0.28571429 1.\n",
            " 1.         1.         1.         1.         1.         1.\n",
            " 0.         1.         1.         1.         1.         1.\n",
            " 1.         1.         1.         0.28571429 0.42857143 0.85714286\n",
            " 0.28571429 1.         0.28571429 1.         0.14285714 1.\n",
            " 1.         0.         1.         1.         1.         0.        ]\n"
          ]
        }
      ]
    },
    {
      "cell_type": "markdown",
      "source": [
        "## 실습2: Penguins"
      ],
      "metadata": {
        "id": "jO6BCMvkqCzm"
      }
    },
    {
      "cell_type": "code",
      "source": [
        "# 사전 준비\n",
        "import pandas as pd\n",
        "import numpy as np\n",
        "import warnings\n",
        "\n",
        "warnings.filterwarnings('ignore')  # 코드 실행에 직접적인 문제가 되지 않는 경고문 생략\n",
        "\n",
        "X_test = pd.read_csv('./yemoonsaBigdata/datasets/Part2/penguin_X_test.csv')\n",
        "X_train = pd.read_csv('./yemoonsaBigdata/datasets/Part2/penguin_X_train.csv')\n",
        "y_train = pd.read_csv('./yemoonsaBigdata/datasets/Part2/penguin_y_train.csv')"
      ],
      "metadata": {
        "id": "pHzxyLaBqDw3"
      },
      "execution_count": 3,
      "outputs": []
    },
    {
      "cell_type": "code",
      "source": [
        "# 1. 데이터 전처리\n",
        "X_train.info()\n",
        "\n",
        "# 결측치가 존재하는 데이터 확인 (X와 y를 합쳐서 확인)\n",
        "train = pd.concat([X_train, y_train], axis=1)  # train에 X_train, y_train을 열 방향으로 합침(옆으로 합쳐짐) * 두 데이터의 행의 수가 같아야 합치기 가능?\n",
        "print(train.loc[(train.sex.isna())|(train.bill_length_mm.isna())|(train.bill_depth_mm.isna())|\n",
        " (train.flipper_length_mm.isna())|(train.body_mass_g.isna())])\n",
        "# train.sex.isna() -> 결측값의 유무를 불리언 시리즈 생성\n",
        "# train.loc -> 생성된 불리언 시리즈로 True값만 가져옴(결측값만 가져오게됨)\n",
        "\n",
        "# 위 코드 나눠서 실행하면 이해하기 쉬움\n",
        "# 1. train.sex.isna()\n",
        "# 2. train.loc[train.sex.isna()]\n",
        "\n",
        "# 결측치 제거하기\n",
        "train = train.dropna()                      # 제거된 행의 인덱스가 비게됨\n",
        "train.reset_index(drop=True, inplace=True)  # 그니까 인덱스 리셋해주기\n",
        "\n",
        "# 다시 데이터를 나누기\n",
        "X_train = train[['species','island','sex','bill_length_mm','bill_depth_mm','flipper_length_mm']]\n",
        "y_train = train[['body_mass_g']]\n",
        "\n",
        "# 통계량 확인\n",
        "X_train.describe() # 별 이상 없음"
      ],
      "metadata": {
        "id": "6Zzn63tqr-TN"
      },
      "execution_count": null,
      "outputs": []
    },
    {
      "cell_type": "code",
      "source": [
        "# 범주형 데이터, 수치형 데이터, 종속변수 데이터 나누기\n",
        "COL_DEL = []\n",
        "COL_NUM = ['bill_length_mm','bill_depth_mm','flipper_length_mm']\n",
        "COL_CAT = ['species','island','sex']\n",
        "COL_Y = ['body_mass_g']\n",
        "\n",
        "# 범주형 데이터 원-핫 인코딩 train과 test 합친 후 진행.\n",
        "X = pd.concat([X_train, X_test])\n",
        "\n",
        "from sklearn.preprocessing import OneHotEncoder\n",
        "ohe = OneHotEncoder(handle_unknown='ignore')  # handle_unknown -> transform을 진행 할 때 첨보는 변수 어떻게 처리할 지 결정. 이미 앞에서 처리해서 무시하기로 함\n",
        "ohe.fit(X[COL_CAT])\n",
        "\n",
        "X_train_res = ohe.transform(X_train[COL_CAT])\n",
        "X_test_res = ohe.transform(X_test[COL_CAT])\n",
        "\n",
        "print(X_train_res) # 데이터프레임이 아닌 행렬을 줄요서 표현한 데이터임을 확인할 수 있음\n",
        "\n",
        "# 변환된 데이터를 데이터프레임 형식으로 바꾸기? 버전 때문에 교재와 다름\n",
        "X_train_ohe = pd.DataFrame(X_train_res.todense(), columns=ohe.get_feature_names_out(input_features=COL_CAT))\n",
        "X_test_ohe = pd.DataFrame(X_test_res.todense(), columns=ohe.get_feature_names_out(input_features=COL_CAT))\n",
        "print(X_train_ohe)  # -> 변환된 범주형 데이터 생성됨\n",
        "\n",
        "# 새로 생성한 범주형 데이터와 숫자형 데이터를 합쳐줌\n",
        "X_train_fin = pd.concat([X_train[COL_NUM], X_train_ohe], axis = 1)\n",
        "X_test_fin = pd.concat([X_test[COL_NUM], X_test_ohe], axis = 1)"
      ],
      "metadata": {
        "id": "4ToRVvIswX-e"
      },
      "execution_count": null,
      "outputs": []
    },
    {
      "cell_type": "code",
      "source": [
        "# 2. 데이터 모형 구축\n",
        "\n",
        "# 학습데이터, 테스트 데이터 분류\n",
        "from sklearn.model_selection import train_test_split\n",
        "X_tr, X_val, y_tr, y_val = train_test_split(X_train_fin, y_train, test_size = 0.3)\n",
        "\n",
        "# 수치형 변수에 대해 스케일링\n",
        "from sklearn.preprocessing import MinMaxScaler\n",
        "\n",
        "scaler = MinMaxScaler()\n",
        "scaler.fit(X_tr[COL_NUM])   # fit을 할 땐 X_tr만 사용\n",
        "X_tr[COL_NUM] = scaler.transform(X_tr[COL_NUM])\n",
        "X_val[COL_NUM] = scaler.transform(X_val[COL_NUM])\n",
        "X_test_fin[COL_NUM] = scaler.transform(X_test_fin[COL_NUM])\n",
        "\n",
        "# 선형 회귀모델로 학습\n",
        "from sklearn.linear_model import LinearRegression\n",
        "\n",
        "modelLR = LinearRegression()\n",
        "modelLR.fit(X_tr, y_tr)\n",
        "\n",
        "# 학습 결과 출력?\n",
        "y_val_pred = modelLR.predict(X_val)\n",
        "print(y_val_pred)\n",
        "\n",
        "# intercept와 coef 사용하여 절편과 기울기 구하기\n",
        "print(modelLR.intercept_)  # [3271.3123242]\n",
        "\n",
        "coef = pd.Series(data = modelLR.coef_[0], index = X_train_fin.columns)\n",
        "print(coef.sort_values())"
      ],
      "metadata": {
        "id": "PRtTce7S_vvv"
      },
      "execution_count": null,
      "outputs": []
    },
    {
      "cell_type": "code",
      "source": [
        "# 3. 데이터 모형 평가\n",
        "\n",
        "# 평가지표 : RMSE (MSE의 제곱근)\n",
        "from sklearn.metrics import mean_squared_error, r2_score\n",
        "\n",
        "mse = mean_squared_error(y_val, y_val_pred)\n",
        "rmse = mean_squared_error(y_val, y_val_pred, squared = False)\n",
        "\n",
        "print('MSE : {0:.3f}, RMSE : {1:.3F} '.format(mse, rmse))"
      ],
      "metadata": {
        "colab": {
          "base_uri": "https://localhost:8080/"
        },
        "id": "HTWCb2mQc5tI",
        "outputId": "f673159f-6463-4d7c-c813-e24d020e7727"
      },
      "execution_count": 14,
      "outputs": [
        {
          "output_type": "stream",
          "name": "stdout",
          "text": [
            "MSE : 78655.229, RMSE : 280.455 \n"
          ]
        }
      ]
    },
    {
      "cell_type": "code",
      "source": [
        "# 4. 제출물 만들기\n",
        "y_pred = modelLR.predict(X_test_fin)\n",
        "print(y_pred)\n",
        "\n",
        "pd.DataFrame({'body_mass_g': y_pred[:,0]}).to_csv('./yemoonsa/Bigdata/res/00400000.csv', index = False)"
      ],
      "metadata": {
        "id": "PZK7HwL6d0PR"
      },
      "execution_count": null,
      "outputs": []
    }
  ]
}